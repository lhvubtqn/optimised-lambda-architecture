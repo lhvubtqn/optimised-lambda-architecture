{
 "cells": [
  {
   "cell_type": "markdown",
   "id": "2a2b7690",
   "metadata": {},
   "source": [
    "# Init PySpark"
   ]
  },
  {
   "cell_type": "code",
   "execution_count": 2,
   "id": "cd68b415",
   "metadata": {},
   "outputs": [],
   "source": [
    "import os\n",
    "import sys\n",
    "import re\n",
    "\n",
    "from pyspark.sql import SparkSession, SQLContext\n",
    "from pyspark import  SparkContext, SparkConf\n",
    "from pyspark.streaming import StreamingContext\n",
    "\n",
    "# Spark session & context\n",
    "conf = SparkConf()\n",
    "conf.setMaster(\"local[4]\").setAppName(\"preprocessing-job\")\n",
    "conf.set(\"spark.executor.memory\", \"4g\")\n",
    "conf.set(\"spark.executor.cores\", \"1\")\n",
    "conf.set(\"spark.cores.max\", \"4\")\n",
    "conf.set(\"spark.driver.memory\",'4g')\n",
    "conf.set(\"spark.driver.extraClassPath\", \"/usr/local/spark/third-party-jars/*\")\n",
    "conf.set(\"spark.executor.extraClassPath\", \"/usr/local/spark/third-party-jars/*\")\n",
    "conf.set(\"spark.sql.caseSensitive\", \"true\")\n",
    "conf.set(\"spark.ui.port\", \"4040\")\n",
    "\n",
    "sc = SparkContext(conf=conf)\n",
    "spark = SparkSession(sc)\n",
    "sqlContext = SQLContext(sc)\n",
    "ssc = StreamingContext(sc, 1)"
   ]
  },
  {
   "cell_type": "code",
   "execution_count": 3,
   "id": "c7f5fa63",
   "metadata": {},
   "outputs": [
    {
     "data": {
      "text/html": [
       "<style>\n",
       "div.output_area pre {\n",
       "    white-space: pre;\n",
       "}\n",
       ".container { \n",
       "    width:95% !important; \n",
       "}\n",
       "</style>\n"
      ],
      "text/plain": [
       "<IPython.core.display.HTML object>"
      ]
     },
     "metadata": {},
     "output_type": "display_data"
    }
   ],
   "source": [
    "%%html\n",
    "<style>\n",
    "div.output_area pre {\n",
    "    white-space: pre;\n",
    "}\n",
    ".container { \n",
    "    width:95% !important; \n",
    "}\n",
    "</style>"
   ]
  },
  {
   "cell_type": "markdown",
   "id": "c964e372",
   "metadata": {},
   "source": [
    "# Define static variables"
   ]
  },
  {
   "cell_type": "code",
   "execution_count": 4,
   "id": "8bf0be11",
   "metadata": {},
   "outputs": [],
   "source": [
    "TIME_BIN_SECONDS = 600 # seconds\n",
    "DAY_TYPE_WEEKDAY = 0\n",
    "DAY_TYPE_WEEKEND = 0\n",
    "DATA_ACTUAL_TIMEZONE = \"America/Los_Angeles\"\n",
    "\n",
    "STATIC_DATA_DIR = \"hdfs://namenode:8020/ola/static_data/\"\n",
    "HISTORICAL_DATA_DIR = \"hdfs://namenode:8020/ola/historical_data/\"\n",
    "AGGREGATED_DATA_DIR = \"hdfs://namenode:8020/ola/aggregated_data/\"\n",
    "\n",
    "LOCAL_STATIC_DATA_DIR = \"/home/data/static_data/\"\n",
    "LOCAL_HISTORICAL_DATA_DIR = \"/home/data/historical_data/\"\n",
    "LOCAL_AGGREGATED_DATA_DIR = \"/home/data/aggregated_data/\""
   ]
  },
  {
   "cell_type": "markdown",
   "id": "d0d862f1",
   "metadata": {},
   "source": [
    "# Define utilities"
   ]
  },
  {
   "cell_type": "code",
   "execution_count": 5,
   "id": "06de0b7a",
   "metadata": {},
   "outputs": [],
   "source": [
    "from pyspark.sql.functions import *\n",
    "from pyspark.sql.types import *\n",
    "from pyspark.sql.window import *\n",
    "\n",
    "from datetime import datetime\n",
    "from pytz import timezone\n",
    "import math"
   ]
  },
  {
   "cell_type": "markdown",
   "id": "01cd6794",
   "metadata": {},
   "source": [
    "## Functions"
   ]
  },
  {
   "cell_type": "code",
   "execution_count": 6,
   "id": "fe7d4ba2",
   "metadata": {},
   "outputs": [],
   "source": [
    "# utils\n",
    "def fhaversine_meter(lat1, lon1, lat2, lon2):\n",
    "    # distance between latitudes and longitudes\n",
    "    dLat = (lat2 - lat1) * math.pi / 180.0\n",
    "    dLon = (lon2 - lon1) * math.pi / 180.0\n",
    "\n",
    "    # convert to radians\n",
    "    lat1 = (lat1) * math.pi / 180.0\n",
    "    lat2 = (lat2) * math.pi / 180.0\n",
    " \n",
    "    # apply formulae\n",
    "    a = (math.pow(math.sin(dLat / 2), 2) +\n",
    "         math.pow(math.sin(dLon / 2), 2) *\n",
    "             math.cos(lat1) * math.cos(lat2));\n",
    "    rad = 6371\n",
    "    c = 2 * math.asin(math.sqrt(a))\n",
    "    return rad * c * 1000"
   ]
  },
  {
   "cell_type": "markdown",
   "id": "a296a056",
   "metadata": {},
   "source": [
    "## Udf functions"
   ]
  },
  {
   "cell_type": "code",
   "execution_count": 7,
   "id": "b2aaff07",
   "metadata": {},
   "outputs": [],
   "source": [
    "haversine_meter = udf(lambda a, b, c, d: fhaversine_meter(a, b, c, d), DoubleType())"
   ]
  },
  {
   "cell_type": "markdown",
   "id": "77a522d1",
   "metadata": {},
   "source": [
    "# Process static data"
   ]
  },
  {
   "cell_type": "code",
   "execution_count": 8,
   "id": "839389ea",
   "metadata": {},
   "outputs": [
    {
     "name": "stdout",
     "output_type": "stream",
     "text": [
      "+--------+----------------+----------------+--------------------+----------+-----------+----------------+---------+\n",
      "|route_id|route_short_name| route_long_name|          route_desc|route_type|route_color|route_text_color|route_url|\n",
      "+--------+----------------+----------------+--------------------+----------+-----------+----------------+---------+\n",
      "| 2-13139|               2|Metro Local Line|DOWNTOWN LA - WES...|         3|       null|            null|     null|\n",
      "| 4-13139|               4|Metro Local Line|DOWNTOWN LA - SAN...|         3|       null|            null|     null|\n",
      "|10-13139|           10/48|Metro Local Line|W HOLLYWOOD-DTWN ...|         3|       null|            null|     null|\n",
      "|14-13139|           14/37|Metro Local Line|BEVERLY HLLS-DTWN...|         3|       null|            null|     null|\n",
      "|16-13139|              16|Metro Local Line|DOWNTOWN LA - CEN...|         3|       null|            null|     null|\n",
      "|18-13139|              18|Metro Local Line|WILSHIRE WESTERN ...|         3|       null|            null|     null|\n",
      "|20-13139|              20|Metro Local Line|DOWNTOWN LA - SAN...|         3|       null|            null|     null|\n",
      "|28-13139|              28|Metro Local Line|CENTURY CITY-DTW ...|         3|       null|            null|     null|\n",
      "|30-13139|              30|Metro Local Line|W HOLLYWOOD - DTW...|         3|       null|            null|     null|\n",
      "|33-13139|              33|Metro Local Line|DOWNTOWN LA - SAN...|         3|       null|            null|     null|\n",
      "+--------+----------------+----------------+--------------------+----------+-----------+----------------+---------+\n",
      "only showing top 10 rows\n",
      "\n"
     ]
    }
   ],
   "source": [
    "routes = spark.read.csv(STATIC_DATA_DIR + 'routes.txt', header=True)\n",
    "routes.show(10)"
   ]
  },
  {
   "cell_type": "code",
   "execution_count": 9,
   "id": "c4ce5870",
   "metadata": {},
   "outputs": [
    {
     "name": "stdout",
     "output_type": "stream",
     "text": [
      "+---------+----------------------+-------------------------------+-------------+------------+--------+-------------+--------------+\n",
      "|route_id |service_id            |trip_id                        |trip_headsign|direction_id|block_id|shape_id     |perm_trip_id  |\n",
      "+---------+----------------------+-------------------------------+-------------+------------+--------+-------------+--------------+\n",
      "|611-13139|DEC20-D02CAR-1_Weekday|52088401-DEC20-D02CAR-1_Weekday|null         |1           |6110300 |6110028_DEC20|10611000280539|\n",
      "|611-13139|DEC20-D02CAR-1_Weekday|52088402-DEC20-D02CAR-1_Weekday|null         |1           |6110100 |6110029_DEC20|10611000290605|\n",
      "|611-13139|DEC20-D02CAR-1_Weekday|52088403-DEC20-D02CAR-1_Weekday|null         |1           |6110200 |6110029_DEC20|10611000290705|\n",
      "|611-13139|DEC20-D02CAR-1_Weekday|52088404-DEC20-D02CAR-1_Weekday|null         |1           |6110300 |6110029_DEC20|10611000290801|\n",
      "|611-13139|DEC20-D02CAR-1_Weekday|52088405-DEC20-D02CAR-1_Weekday|null         |1           |6110100 |6110029_DEC20|10611000290902|\n",
      "|611-13139|DEC20-D02CAR-1_Weekday|52088406-DEC20-D02CAR-1_Weekday|null         |1           |6110200 |6110029_DEC20|10611000291001|\n",
      "|611-13139|DEC20-D02CAR-1_Weekday|52088407-DEC20-D02CAR-1_Weekday|null         |1           |6110300 |6110029_DEC20|10611000291100|\n",
      "|611-13139|DEC20-D02CAR-1_Weekday|52088408-DEC20-D02CAR-1_Weekday|null         |1           |6110100 |6110029_DEC20|10611000291159|\n",
      "|611-13139|DEC20-D02CAR-1_Weekday|52088409-DEC20-D02CAR-1_Weekday|null         |1           |6110200 |6110029_DEC20|10611000291300|\n",
      "|611-13139|DEC20-D02CAR-1_Weekday|52088410-DEC20-D02CAR-1_Weekday|null         |1           |6110300 |6110029_DEC20|10611000291400|\n",
      "+---------+----------------------+-------------------------------+-------------+------------+--------+-------------+--------------+\n",
      "only showing top 10 rows\n",
      "\n"
     ]
    }
   ],
   "source": [
    "trips = spark.read.csv(STATIC_DATA_DIR + 'trips.txt', header=True)\n",
    "trips.show(10, False)"
   ]
  },
  {
   "cell_type": "code",
   "execution_count": 10,
   "id": "3dda51bd",
   "metadata": {
    "scrolled": true
   },
   "outputs": [
    {
     "name": "stdout",
     "output_type": "stream",
     "text": [
      "+-----------+-------------+---------------+-----------------+\n",
      "|shape_id   |shape_pt_lat |shape_pt_lon   |shape_pt_sequence|\n",
      "+-----------+-------------+---------------+-----------------+\n",
      "|20999_DEC20|34.0455868426|-118.2530497433|10001            |\n",
      "|20999_DEC20|34.0466699681|-118.252038928 |10002            |\n",
      "|20999_DEC20|34.0481153251|-118.2507294304|10003            |\n",
      "|20999_DEC20|34.0482659327|-118.2505852918|10004            |\n",
      "|20999_DEC20|34.0482659327|-118.2505852918|20001            |\n",
      "|20999_DEC20|34.0495085066|-118.2493966237|20002            |\n",
      "|20999_DEC20|34.0495250347|-118.2493768658|20003            |\n",
      "|20999_DEC20|34.0509649284|-118.2480375502|20004            |\n",
      "|20999_DEC20|34.0511799592|-118.2478318593|20005            |\n",
      "|20999_DEC20|34.0511799592|-118.2478318593|30001            |\n",
      "+-----------+-------------+---------------+-----------------+\n",
      "only showing top 10 rows\n",
      "\n"
     ]
    }
   ],
   "source": [
    "shapes = spark.read.csv(STATIC_DATA_DIR + 'shapes.txt', header=True)\n",
    "shapes.show(10, False)"
   ]
  },
  {
   "cell_type": "code",
   "execution_count": 11,
   "id": "d6848d6b",
   "metadata": {
    "scrolled": true
   },
   "outputs": [
    {
     "name": "stdout",
     "output_type": "stream",
     "text": [
      "+-------+---------+--------------------+---------+-----------+-----------+--------+-------------+--------------+---------+\n",
      "|stop_id|stop_code|           stop_name|stop_desc|   stop_lat|   stop_lon|stop_url|location_type|parent_station|tpis_name|\n",
      "+-------+---------+--------------------+---------+-----------+-----------+--------+-------------+--------------+---------+\n",
      "|      1|        1| Paramount / Slauson|     null|  33.973248|-118.113113|    null|         null|          null|     null|\n",
      "|      3|        3|    Jefferson / 10th|     null|  34.025471|-118.328402|    null|         null|          null|     null|\n",
      "|      6|        6|120th / Augustus ...|     null|  33.924696|-118.242222|    null|         null|          null|     null|\n",
      "|      7|        7|120th / Martin Lu...|     null|  33.924505|-118.240369|    null|         null|          null|     null|\n",
      "|     12|       12|   15054 Sherman Way|     null|  34.201075|-118.461953|    null|         null|          null|     null|\n",
      "+-------+---------+--------------------+---------+-----------+-----------+--------+-------------+--------------+---------+\n",
      "only showing top 5 rows\n",
      "\n"
     ]
    }
   ],
   "source": [
    "stops = spark.read.csv(STATIC_DATA_DIR + 'stops.txt', header=True)\n",
    "stops.show(5)"
   ]
  },
  {
   "cell_type": "code",
   "execution_count": 12,
   "id": "e57e5fb8",
   "metadata": {
    "scrolled": true
   },
   "outputs": [
    {
     "name": "stdout",
     "output_type": "stream",
     "text": [
      "+--------------------+------+-------+---------+--------+------+--------+------+----------+--------+\n",
      "|          service_id|monday|tuesday|wednesday|thursday|friday|saturday|sunday|start_date|end_date|\n",
      "+--------------------+------+-------+---------+--------+------+--------+------+----------+--------+\n",
      "|DEC20-D01CAR-3_Su...|     0|      0|        0|       0|     0|       0|     1|  20201213|20210620|\n",
      "|DEC20-D01CAR-1_We...|     1|      1|        1|       1|     1|       0|     0|  20201214|20210625|\n",
      "|DEC20-D01CAR-2_Sa...|     0|      0|        0|       0|     0|       1|     0|  20201219|20210626|\n",
      "|DEC20-D02CAR-3_Su...|     0|      0|        0|       0|     0|       0|     1|  20201213|20210620|\n",
      "|DEC20-D02CAR-1_We...|     1|      1|        1|       1|     1|       0|     0|  20201214|20210625|\n",
      "+--------------------+------+-------+---------+--------+------+--------+------+----------+--------+\n",
      "only showing top 5 rows\n",
      "\n"
     ]
    }
   ],
   "source": [
    "calendar = spark.read.csv(STATIC_DATA_DIR + 'calendar.txt', header=True)\n",
    "calendar.show(5)"
   ]
  },
  {
   "cell_type": "code",
   "execution_count": 13,
   "id": "dce789a8",
   "metadata": {},
   "outputs": [
    {
     "name": "stdout",
     "output_type": "stream",
     "text": [
      "+--------------------+--------+--------------+\n",
      "|          service_id|    date|exception_type|\n",
      "+--------------------+--------+--------------+\n",
      "|DEC20-D01CAR-3_Su...|20201225|             1|\n",
      "|DEC20-D01CAR-3_Su...|20210101|             1|\n",
      "|DEC20-D01CAR-3_Su...|20210531|             1|\n",
      "|DEC20-D01CAR-1_We...|20201225|             2|\n",
      "|DEC20-D01CAR-1_We...|20210101|             2|\n",
      "+--------------------+--------+--------------+\n",
      "only showing top 5 rows\n",
      "\n"
     ]
    }
   ],
   "source": [
    "calendar_dates = spark.read.csv(STATIC_DATA_DIR + 'calendar_dates.txt', header=True)\n",
    "calendar_dates.show(5)"
   ]
  },
  {
   "cell_type": "code",
   "execution_count": 14,
   "id": "cf44ec0c",
   "metadata": {
    "scrolled": false
   },
   "outputs": [
    {
     "name": "stdout",
     "output_type": "stream",
     "text": [
      "+--------------------+------------+--------------+-------+-------------+--------------------+-----------+-------------+\n",
      "|             trip_id|arrival_time|departure_time|stop_id|stop_sequence|       stop_headsign|pickup_type|drop_off_type|\n",
      "+--------------------+------------+--------------+-------+-------------+--------------------+-----------+-------------+\n",
      "|52088401-DEC20-D0...|    05:39:00|      05:39:00|  10246|            1|611 - Vernon Station|          0|            0|\n",
      "|52088401-DEC20-D0...|    05:40:00|      05:40:00|  10248|            2|611 - Vernon Station|          0|            0|\n",
      "|52088401-DEC20-D0...|    05:41:00|      05:41:00|   9371|            3|611 - Vernon Station|          0|            0|\n",
      "|52088401-DEC20-D0...|    05:42:00|      05:42:00|   9350|            4|611 - Vernon Station|          0|            0|\n",
      "|52088401-DEC20-D0...|    05:43:00|      05:43:00|   9351|            5|611 - Vernon Station|          0|            0|\n",
      "+--------------------+------------+--------------+-------+-------------+--------------------+-----------+-------------+\n",
      "only showing top 5 rows\n",
      "\n"
     ]
    }
   ],
   "source": [
    "stop_times = spark.read.csv(STATIC_DATA_DIR + 'stop_times.txt', header=True)\n",
    "stop_times.show(5)"
   ]
  },
  {
   "cell_type": "code",
   "execution_count": 15,
   "id": "27a194b5",
   "metadata": {},
   "outputs": [
    {
     "name": "stdout",
     "output_type": "stream",
     "text": [
      "+---------+-------------+-----+\n",
      "| route_id|     shape_id|count|\n",
      "+---------+-------------+-----+\n",
      "|163-13139|1630129_DEC20|   57|\n",
      "| 16-13139| 160379_DEC20|  138|\n",
      "|117-13139|1170068_DEC20|   84|\n",
      "|251-13139|2510148_DEC20|   23|\n",
      "| 10-13139| 100567_DEC20|   45|\n",
      "| 10-13139| 100613_DEC20|   41|\n",
      "|200-13139|2000041_DEC20|   24|\n",
      "|734-13139|7340034_DEC20|    2|\n",
      "|217-13139|2170234_DEC20|    6|\n",
      "| 20-13139| 200723_DEC20|  119|\n",
      "+---------+-------------+-----+\n",
      "only showing top 10 rows\n",
      "\n"
     ]
    }
   ],
   "source": [
    "route_shape_occurences = trips\\\n",
    "    .groupBy(\"route_id\", \"shape_id\")\\\n",
    "    .count()\n",
    "\n",
    "route_shape_occurences.show(10)"
   ]
  },
  {
   "cell_type": "code",
   "execution_count": 16,
   "id": "d34b9e33",
   "metadata": {},
   "outputs": [
    {
     "name": "stdout",
     "output_type": "stream",
     "text": [
      "+--------+-------------+---------------+-----------------+\n",
      "|route_id| shape_pt_lat|   shape_pt_lon|shape_pt_sequence|\n",
      "+--------+-------------+---------------+-----------------+\n",
      "| 2-13139|34.0636651084|-118.4467287702|            10001|\n",
      "| 2-13139|34.0636633497|-118.4466098971|            10002|\n",
      "| 2-13139|34.0636739601|-118.4459694103|            10003|\n",
      "| 2-13139| 34.063695534|-118.4453355852|            10004|\n",
      "| 2-13139|34.0636989493|-118.4450054263|            10005|\n",
      "| 2-13139|34.0636989493|-118.4450054263|            20001|\n",
      "| 2-13139|  34.06369973|-118.4449426967|            20002|\n",
      "| 2-13139|34.0636910845| -118.444305409|            20003|\n",
      "| 2-13139|34.0636945852|-118.4441007178|            20004|\n",
      "| 2-13139|34.0637298522|  -118.44347687|            20005|\n",
      "+--------+-------------+---------------+-----------------+\n",
      "only showing top 10 rows\n",
      "\n"
     ]
    }
   ],
   "source": [
    "routes_with_shape = route_shape_occurences\\\n",
    "    .withColumn('rn', row_number().over(Window.partitionBy('route_id').orderBy(col('count').desc())))\\\n",
    "    .where('rn = 1')\\\n",
    "    .select(\"route_id\", \"shape_id\")\\\n",
    "    .join(shapes, \"shape_id\")\\\n",
    "    .select(\"route_id\", col(\"shape_pt_lat\").cast(\"double\"), col(\"shape_pt_lon\").cast(\"double\"), col(\"shape_pt_sequence\").cast(\"int\"))\n",
    "\n",
    "routes_with_shape.show(10)"
   ]
  },
  {
   "cell_type": "code",
   "execution_count": 17,
   "id": "5435de6e",
   "metadata": {},
   "outputs": [
    {
     "name": "stdout",
     "output_type": "stream",
     "text": [
      "root\n",
      " |-- route_id: string (nullable = true)\n",
      " |-- segment_first_lat: double (nullable = true)\n",
      " |-- segment_first_lon: double (nullable = true)\n",
      " |-- segment_second_lat: double (nullable = true)\n",
      " |-- segment_second_lon: double (nullable = true)\n",
      " |-- segment_sequence: integer (nullable = true)\n",
      " |-- segment_id: long (nullable = true)\n",
      " |-- segment_len_meter: double (nullable = true)\n",
      " |-- segment_cum_len: double (nullable = true)\n",
      "\n",
      "+--------+-----------------+-----------------+------------------+------------------+----------------+----------+------------------+------------------+\n",
      "|route_id|segment_first_lat|segment_first_lon|segment_second_lat|segment_second_lon|segment_sequence|segment_id| segment_len_meter|   segment_cum_len|\n",
      "+--------+-----------------+-----------------+------------------+------------------+----------------+----------+------------------+------------------+\n",
      "|     125|    33.9058578172|  -118.3960444204|     33.9067250829|   -118.3959476739|           10001|         1| 96.84797621031923| 96.84797621031923|\n",
      "|     125|    33.9067250829|  -118.3959476739|      33.907843507|    -118.395933184|           10002|         1|124.37027464152683|221.21825085184605|\n",
      "|     125|     33.907843507|   -118.395933184|     33.9078312067|   -118.3954948079|           10003|         1| 40.47850790950947| 261.6967587613555|\n",
      "|     125|    33.9078312067|  -118.3954948079|     33.9078294424|   -118.3951948978|           10004|         1| 27.67780244998628| 289.3745612113418|\n",
      "|     125|    33.9078294424|  -118.3951948978|     33.9078417726|   -118.3947862985|           10005|         1|37.732370509027916|327.10693172036974|\n",
      "|     125|    33.9078417726|  -118.3947862985|     33.9078532494|   -118.3946380495|           10006|         1| 13.74049927998875| 340.8474310003585|\n",
      "|     125|    33.9078532494|  -118.3946380495|     33.9078756633|     -118.39450633|           10007|         1|12.408559211653577| 353.2559902120121|\n",
      "|     125|    33.9078756633|    -118.39450633|      33.907931385|   -118.3942726027|           10008|         1| 22.44171046885558| 375.6977006808677|\n",
      "|     125|     33.907931385|  -118.3942726027|     33.9080091319|   -118.3940257962|           10009|         1|24.361905431550085| 400.0596061124178|\n",
      "|     125|    33.9080091319|  -118.3940257962|     33.9084799052|   -118.3920670982|           10010|         1|188.18432919490317|  588.243935307321|\n",
      "+--------+-----------------+-----------------+------------------+------------------+----------------+----------+------------------+------------------+\n",
      "only showing top 10 rows\n",
      "\n"
     ]
    },
    {
     "data": {
      "text/plain": [
       "60198"
      ]
     },
     "execution_count": 17,
     "metadata": {},
     "output_type": "execute_result"
    }
   ],
   "source": [
    "route_segments = routes_with_shape\\\n",
    "    .withColumn(\"id\", monotonically_increasing_id())\\\n",
    "    .select(\"*\", *[lead(col(c)).over(Window.orderBy(\"id\")).alias(\"next_\" + c) for c in [\"shape_pt_lat\", \"shape_pt_lon\", \"shape_pt_sequence\"]])\\\n",
    "    .drop(\"id\")\\\n",
    "    .dropna(\"any\")\\\n",
    "    .where(floor(col(\"shape_pt_sequence\") / 10000) == floor(col(\"next_shape_pt_sequence\") / 10000))\\\n",
    "    .select(\n",
    "        split(\"route_id\", \"-\").getItem(0).alias(\"route_id\"), \n",
    "        col(\"shape_pt_lat\").alias(\"segment_first_lat\"), col(\"shape_pt_lon\").alias(\"segment_first_lon\"),\n",
    "        col(\"next_shape_pt_lat\").alias(\"segment_second_lat\"), col(\"next_shape_pt_lon\").alias(\"segment_second_lon\"), \n",
    "        col(\"shape_pt_sequence\").alias(\"segment_sequence\"), floor(col(\"shape_pt_sequence\") / 20000 + 0.5).alias(\"segment_id\"),\n",
    "        haversine_meter(\"shape_pt_lat\", \"shape_pt_lon\", \"next_shape_pt_lat\", \"next_shape_pt_lon\").alias(\"segment_len_meter\")\n",
    "    )\\\n",
    "    .withColumn(\"segment_cum_len\", sum(\"segment_len_meter\").over(Window.partitionBy(\"route_id\").orderBy(\"segment_sequence\").rangeBetween(Window.unboundedPreceding, 0)))\n",
    "\n",
    "route_segments.cache()\n",
    "route_segments.printSchema()\n",
    "route_segments.show(10)\n",
    "route_segments.count()"
   ]
  },
  {
   "cell_type": "code",
   "execution_count": 18,
   "id": "812c9105",
   "metadata": {},
   "outputs": [],
   "source": [
    "# write to static_data\n",
    "route_segments.coalesce(1).write.mode(\"overwrite\").json(LOCAL_STATIC_DATA_DIR + \"route_segments.json\")\n",
    "route_segments.coalesce(1).write.mode(\"overwrite\").json(STATIC_DATA_DIR + \"route_segments.json\")"
   ]
  }
 ],
 "metadata": {
  "kernelspec": {
   "display_name": "Python 3",
   "language": "python",
   "name": "python3"
  },
  "language_info": {
   "codemirror_mode": {
    "name": "ipython",
    "version": 3
   },
   "file_extension": ".py",
   "mimetype": "text/x-python",
   "name": "python",
   "nbconvert_exporter": "python",
   "pygments_lexer": "ipython3",
   "version": "3.9.4"
  }
 },
 "nbformat": 4,
 "nbformat_minor": 5
}
