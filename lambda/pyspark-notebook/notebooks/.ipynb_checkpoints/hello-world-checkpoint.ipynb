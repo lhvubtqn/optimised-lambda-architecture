{
 "cells": [
  {
   "cell_type": "code",
   "execution_count": 1,
   "id": "955dc777",
   "metadata": {},
   "outputs": [],
   "source": [
    "import os\n",
    "import sys\n",
    "import re\n",
    "\n",
    "# os.environ['PYSPARK_SUBMIT_ARGS'] = '--jars /usr/local/spark/third-party-jars/spark-streaming-kafka-0-10_2.12-3.1.1.jar;/usr/local/spark/third-party-jars/spark-sql-kafka-0-10_2.12-3.1.1.jar pyspark-shell'\n",
    "\n",
    "# Configure the environment\n",
    "# if 'SPARK_HOME' not in os.environ:\n",
    "# os.environ['SPARK_HOME'] = '/home/zdeploy/spark/spark-2.1.1-bin-hadoop2.7'\n",
    "# Create a variable for our root path\n",
    "# SPARK_HOME = os.environ['SPARK_HOME']\n",
    "# print(SPARK_HOME)\n",
    "#Set python location \n",
    "# sys.path.append(\"/usr/local/lib/python3.7/site-packages\")\n",
    "#Set python location \n",
    "# sys.path.append(\"/home/zdeploy/spark/spark-2.1.1-bin-hadoop2.7/python\")\n",
    "# sys.path.append(\"/home/zdeploy/spark/spark-2.1.1-bin-hadoop2.7/python/lib/py4j-0.10.4-src.zip\")\n",
    "\n",
    "\n",
    "from pyspark.sql import SparkSession, SQLContext\n",
    "from pyspark import  SparkContext, SparkConf\n",
    "from pyspark.streaming import StreamingContext\n",
    "\n",
    "# Spark session & context\n",
    "conf = SparkConf()\n",
    "conf.setMaster(\"local\").setAppName(\"hello-world\")\n",
    "conf.set(\"spark.executor.memory\", \"1g\")\n",
    "conf.set(\"spark.executor.cores\", \"1\")\n",
    "conf.set(\"spark.cores.max\", \"4\")\n",
    "conf.set(\"spark.driver.memory\",'1g')\n",
    "conf.set(\"spark.driver.extraClassPath\", \"/usr/local/spark/third-party-jars/*\")\n",
    "conf.set(\"spark.executor.extraClassPath\", \"/usr/local/spark/third-party-jars/*\")\n",
    "conf.set(\"spark.sql.caseSensitive\", \"true\")\n",
    "conf.set(\"spark.ui.port\", \"4040\")\n",
    "\n",
    "sc = SparkContext(conf=conf)\n",
    "spark = SparkSession(sc)\n",
    "sqlContext = SQLContext(sc)\n",
    "ssc = StreamingContext(sc, 1)"
   ]
  },
  {
   "cell_type": "code",
   "execution_count": null,
   "id": "299f17ea",
   "metadata": {},
   "outputs": [],
   "source": [
    "from pyspark.sql import functions\n",
    "from pyspark.sql.types import *"
   ]
  },
  {
   "cell_type": "markdown",
   "id": "fb674128",
   "metadata": {},
   "source": [
    "# Read Kafka"
   ]
  },
  {
   "cell_type": "code",
   "execution_count": 43,
   "id": "00b8641b",
   "metadata": {},
   "outputs": [
    {
     "name": "stdout",
     "output_type": "stream",
     "text": [
      "+---+--------------------+--------------+---------+------+--------------------+-------------+\n",
      "|key|               value|         topic|partition|offset|           timestamp|timestampType|\n",
      "+---+--------------------+--------------+---------+------+--------------------+-------------+\n",
      "|180|{\"route_id\": \"180...|buses-location|        5|     0|2021-05-20 17:19:...|            0|\n",
      "+---+--------------------+--------------+---------+------+--------------------+-------------+\n",
      "only showing top 1 row\n",
      "\n"
     ]
    }
   ],
   "source": [
    "# Subscribe to 1 topic defaults to the earliest and latest offsets\n",
    "df = spark \\\n",
    "  .read \\\n",
    "  .format(\"kafka\") \\\n",
    "  .option(\"kafka.bootstrap.servers\", \"kafka:29092\") \\\n",
    "  .option(\"subscribe\", \"buses-location\") \\\n",
    "  .load()\n",
    "df = df\\\n",
    "    .withColumn('key', df.key.cast(StringType()))\\\n",
    "    .withColumn('value', df.value.cast(StringType()))\\\n",
    "\n",
    "df.show(1)"
   ]
  },
  {
   "cell_type": "code",
   "execution_count": 16,
   "id": "5f7ba137",
   "metadata": {},
   "outputs": [],
   "source": [
    "schema = StructType([\n",
    "    StructField(\"route_id\", StringType(), True),\n",
    "    StructField(\"id\", StringType(), True),\n",
    "    StructField(\"run_id\", StringType(), True),\n",
    "    StructField(\"predictable\", BooleanType(), True),\n",
    "    StructField(\"seconds_since_report\", LongType(), True),\n",
    "    StructField(\"heading\", DoubleType(), True),\n",
    "    StructField(\"latitude\", DoubleType(), True),\n",
    "    StructField(\"longitude\", DoubleType(), True)\n",
    "])"
   ]
  },
  {
   "cell_type": "code",
   "execution_count": 44,
   "id": "6c2c5d6f",
   "metadata": {},
   "outputs": [
    {
     "name": "stdout",
     "output_type": "stream",
     "text": [
      "+--------+----+---------+-----------+--------------------+-------+---------+-----------+\n",
      "|route_id|id  |run_id   |predictable|seconds_since_report|heading|latitude |longitude  |\n",
      "+--------+----+---------+-----------+--------------------+-------+---------+-----------+\n",
      "|180     |5859|180_177_1|true       |140                 |195.0  |34.120403|-118.271271|\n",
      "+--------+----+---------+-----------+--------------------+-------+---------+-----------+\n",
      "only showing top 1 row\n",
      "\n"
     ]
    }
   ],
   "source": [
    "df_1 = df\\\n",
    "    .select(functions.from_json(\"value\", schema).alias(\"bus_location\"))\\\n",
    "    .select(\"bus_location.*\")\n",
    "\n",
    "df_1.show(1, False)"
   ]
  }
 ],
 "metadata": {
  "kernelspec": {
   "display_name": "Python 3",
   "language": "python",
   "name": "python3"
  },
  "language_info": {
   "codemirror_mode": {
    "name": "ipython",
    "version": 3
   },
   "file_extension": ".py",
   "mimetype": "text/x-python",
   "name": "python",
   "nbconvert_exporter": "python",
   "pygments_lexer": "ipython3",
   "version": "3.9.4"
  }
 },
 "nbformat": 4,
 "nbformat_minor": 5
}
